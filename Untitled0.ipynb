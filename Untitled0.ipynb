{
  "nbformat": 4,
  "nbformat_minor": 0,
  "metadata": {
    "colab": {
      "provenance": [],
      "authorship_tag": "ABX9TyPTnyRcq8FSI1dj4xLXoOjQ",
      "include_colab_link": true
    },
    "kernelspec": {
      "name": "python3",
      "display_name": "Python 3"
    },
    "language_info": {
      "name": "python"
    }
  },
  "cells": [
    {
      "cell_type": "markdown",
      "metadata": {
        "id": "view-in-github",
        "colab_type": "text"
      },
      "source": [
        "<a href=\"https://colab.research.google.com/github/MaestraJess/Agosto2023-Proteccion-de-Datos/blob/main/Untitled0.ipynb\" target=\"_parent\"><img src=\"https://colab.research.google.com/assets/colab-badge.svg\" alt=\"Open In Colab\"/></a>"
      ]
    },
    {
      "cell_type": "markdown",
      "source": [
        "Nombre:\n",
        "\n",
        "Materia:\n",
        "\n",
        "Fecha:"
      ],
      "metadata": {
        "id": "XkJYSWBsLeFB"
      }
    },
    {
      "cell_type": "code",
      "execution_count": 3,
      "metadata": {
        "colab": {
          "base_uri": "https://localhost:8080/"
        },
        "id": "s_yXc9n6LcQ5",
        "outputId": "cdc9c1de-aca9-4159-9e68-4c06e83507fd"
      },
      "outputs": [
        {
          "output_type": "stream",
          "name": "stdout",
          "text": [
            "5 printing from the global scope\n",
            "13 printing from the local scope\n"
          ]
        }
      ],
      "source": [
        "def enclosing_func():\n",
        "  m = 13\n",
        "  def local():\n",
        "   #Es una función de funciones que permite a identificar variables globales\n",
        "    print(m, 'printing from the local scope')\n",
        "    # calling the function local\n",
        "  local()\n",
        "m = 5\n",
        "print(m, 'printing from the global scope')\n",
        "enclosing_func()"
      ]
    },
    {
      "cell_type": "markdown",
      "source": [
        "# Ejercicio 2"
      ],
      "metadata": {
        "id": "9uQ5r7J9MIBB"
      }
    },
    {
      "cell_type": "code",
      "source": [
        "def enclosing_func():\n",
        "m = 13\n",
        "def local():\n",
        "# m doesn't belong to the scope defined by the local\n",
        "# function so Python will keep looking into the next\n",
        "# enclosing scope. This time m is found in the enclosing\n",
        "# scope\n",
        "print(m, 'printing from the local scope')\n",
        "# calling the function local\n",
        "local()\n",
        "m = 5\n",
        "print(m, 'printing from the global scope')\n",
        "enclosing_func()"
      ],
      "metadata": {
        "id": "mzqSYBiwMKOn",
        "outputId": "1906edd2-36a6-4ff5-a8b9-94ee73298d49",
        "colab": {
          "base_uri": "https://localhost:8080/",
          "height": 140
        }
      },
      "execution_count": 4,
      "outputs": [
        {
          "output_type": "error",
          "ename": "IndentationError",
          "evalue": "ignored",
          "traceback": [
            "\u001b[0;36m  File \u001b[0;32m\"<ipython-input-4-2adf365e7ad6>\"\u001b[0;36m, line \u001b[0;32m2\u001b[0m\n\u001b[0;31m    m = 13\u001b[0m\n\u001b[0m    ^\u001b[0m\n\u001b[0;31mIndentationError\u001b[0m\u001b[0;31m:\u001b[0m expected an indented block after function definition on line 1\n"
          ]
        }
      ]
    }
  ]
}